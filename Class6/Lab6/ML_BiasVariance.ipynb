{
 "cells": [
  {
   "cell_type": "markdown",
   "metadata": {},
   "source": [
    "## Lab- Linear Regression with L2 Regularization - Bias-Variance tradeoff\n",
    "\n",
    "**Objectives**: Implement Regularized Linear Regression algorithm and use it to study the bias-variance tradeoff."
   ]
  },
  {
   "cell_type": "code",
   "execution_count": 1,
   "metadata": {},
   "outputs": [],
   "source": [
    "#Import relevant libraries\n",
    "import numpy as np\n",
    "import pandas as pd\n",
    "import matplotlib.pyplot as plt\n",
    "from scipy.io import loadmat"
   ]
  },
  {
   "cell_type": "markdown",
   "metadata": {},
   "source": [
    "### Loading the data\n",
    "\n",
    "The task is to implement regularized linear regression to predict the amount of water owing out of a dam using the change of water level in a reservoir. \n",
    "\n",
    "You will examine the effects of bias versus variance.\n",
    "\n",
    "File *ex5data1.mat* contains historical records on the change in the water level, x, and the amount of water owing out of the dam, y. The dataset is divided into the following parts:\n",
    "\n",
    "• Training set ( X, y) used to fit the model.\n",
    "\n",
    "• Cross Validation (CV) / dev set (Xval, yval) for determining the regularization parameter.\n",
    "\n",
    "• Test set (Xtest, ytest) for evaluating performance. These are examples which the model did not see during training. \n"
   ]
  },
  {
   "cell_type": "code",
   "execution_count": null,
   "metadata": {},
   "outputs": [],
   "source": [
    "# Use loadmat to load the matlab file ex5data1.mat and extract train, val and test subsets. \n",
    "\n",
    "X= ?\n",
    "y= ?\n",
    "\n",
    "Xval=?\n",
    "yval=?\n",
    "\n",
    "Xtest= ?\n",
    "ytest= ?\n",
    "\n",
    "m = ?  # Number of training examples \n",
    "mval = ? # Number of CV/dev examples \n",
    "mtest = ?  # Number of testing examples \n"
   ]
  },
  {
   "cell_type": "markdown",
   "metadata": {},
   "source": [
    "### Plot the training data\n",
    "\n",
    "<img src=\"images/f1.png\" style=\"width:350px;height:250px;\">\n",
    "<caption><center> Fig. 1 : Training data </center></caption>"
   ]
  },
  {
   "cell_type": "code",
   "execution_count": 23,
   "metadata": {},
   "outputs": [
    {
     "name": "stdout",
     "output_type": "stream",
     "text": [
      "12 12\n"
     ]
    },
    {
     "data": {
      "text/plain": [
       "Text(0, 0.5, 'Water flowing out of the dam (y)')"
      ]
     },
     "execution_count": 23,
     "metadata": {},
     "output_type": "execute_result"
    },
    {
     "data": {
      "image/png": "[encoded data removed]",
      "text/plain": [
       "<Figure size 432x288 with 1 Axes>"
      ]
     },
     "metadata": {
      "needs_background": "light"
     },
     "output_type": "display_data"
    }
   ],
   "source": [
    "# Plot the training data and get a figure similar to Fig.1. (use for example plt.scatter)\n",
    "data = loadmat('ex5data1.mat')\n",
    "\n",
    "\n",
    "X = data['X']\n",
    "y = data['y']\n",
    "Xval = data['Xval']\n",
    "yval = data['yval']\n",
    "Xtest = data['Xtest']\n",
    "ytest = data['ytest']\n",
    "\n",
    "# \n",
    "m = X.shape[0]\n",
    "\n",
    "if X.shape[0] != len(y):\n",
    "    raise ValueError('X and y should have the same number of rows')\n",
    "\n",
    "plt.scatter(X,y, c='r', marker='x')\n",
    "plt.xlabel('Change in water level (x)')\n",
    "plt.ylabel('Water flowing out of the dam (y)')"
   ]
  },
  {
   "cell_type": "markdown",
   "metadata": {},
   "source": [
    "### Regularized Linear Regression Cost (Loss) Function\n",
    "\n",
    "You will implement Linear Regression to fit a straight line to the data and plot the learning curves. \n",
    "\n",
    "The regularized Linear Regression Cost (Loss) Function is:\n",
    "\n",
    "$J(\\theta) = \\frac{1}{2m} (\\sum_{i=1}^m(h_\\theta(x^{(i)}) - y^{(i)})^2) + \\frac{\\lambda}{2m}(\\sum_{j=1}^n \\theta_j^2)$\n",
    "\n",
    "$\\lambda$ is the regularization parameter which helps preventing overfitting. The regularization term puts a penalty on the overall cost $J(\\theta)$. By default $\\theta_0$ parameter is not regularized.\n",
    "\n",
    "Complete the code in function *linearRegCostFunction* to calculate the Regularized Linear Regression Cost function and its gradients with respect to vector of trainable parameters  $\\theta$. "
   ]
  },
  {
   "cell_type": "code",
   "execution_count": 12,
   "metadata": {},
   "outputs": [],
   "source": [
    "def linearRegCostFunction(X, y, theta, Lambda):\n",
    "    \n",
    "    \"\"\"\n",
    "    Take in numpy array of  data X, labels y and theta, to return the regularized cost function and gradients\n",
    "    of the linear regression model.\n",
    "    \n",
    "    \"\"\"\n",
    "    \n",
    "    # Number of training examples \n",
    "    m = len(y)\n",
    "    \n",
    "    #linear regression model\n",
    "    h = X.dot(theta)\n",
    "    \n",
    "    cost = 1/(2*m) * np.sum((h - y)**2)\n",
    "    reg_cost = cost + Lambda/(2*m) * (np.sum(theta[1:]**2))\n",
    "    \n",
    "    # compute the gradients\n",
    "    grad_0= (1/m) * np.dot(X.transpose(),(h - y))[0]\n",
    "    grad = (1/m) * np.dot(X.transpose(),(h - y))[1:] + (Lambda/m)* theta[1:]\n",
    "       \n",
    "    #  all gradients as a column vector\n",
    "    grad_all=np.append(grad_0,grad)\n",
    "    grad_all = grad_all.reshape((len(grad_all), 1))\n",
    "    \n",
    "    return reg_cost, grad_all\n",
    "    "
   ]
  },
  {
   "cell_type": "markdown",
   "metadata": {},
   "source": [
    "### PART 1: Fitting Linear Regression\n",
    "\n",
    "Here, we set the regularization parameter $\\lambda$ = 0. For this exercise, Linear regression fits vector $\\theta$ with only 2 elements (theta0, theta_1), because we have only one feature, regularization will not be much helpful. "
   ]
  },
  {
   "cell_type": "code",
   "execution_count": 172,
   "metadata": {},
   "outputs": [],
   "source": [
    "def gradientDescent(X,y,theta,learn_rate,num_iters,Lambda, min_iters=1,patience = 50,breakpoint = 0.001):\n",
    "    \"\"\"\n",
    "    Take in numpy array X, y and theta and update theta by taking num_iters gradient steps\n",
    "    with learning rate of alpha\n",
    "    \n",
    "    return theta and the list of the cost of theta during each iteration\n",
    "    \"\"\"\n",
    "\n",
    "    if min_iters < 1 and min_iters != -1:\n",
    "        raise ValueError('min_iters should be at least 1 or -1 to disable early stopping')\n",
    "\n",
    "    if patience < 1:\n",
    "        raise ValueError('patience should be at least 1')\n",
    "    \n",
    "    if breakpoint < 0:\n",
    "        raise ValueError('breakpoint should be at least 0')\n",
    "\n",
    "    J_history =[]\n",
    "    \n",
    "    for i in range(num_iters):\n",
    "        cost, grad = linearRegCostFunction(X,y,theta,Lambda)\n",
    "        \n",
    "        #Update theta\n",
    "        theta = theta - (learn_rate * grad)\n",
    "        J_history.append(cost)\n",
    "\n",
    "        # apply early stopping after 4000 iterations\n",
    "        if min_iters != -1 and i > min_iters:\n",
    "            if J_history[i-1] - J_history[i] < breakpoint:\n",
    "                patience -= 1\n",
    "                if patience == 0:\n",
    "                    break\n",
    "            else:\n",
    "                patience = 50\n",
    "    \n",
    "    return theta, J_history"
   ]
  },
  {
   "cell_type": "code",
   "execution_count": 190,
   "metadata": {},
   "outputs": [
    {
     "name": "stdout",
     "output_type": "stream",
     "text": [
      "Took 31157 iterations to converge to a difference of less than the set breakpoint in the cost function\n",
      "[[13.08790351]\n",
      " [ 0.36777923]]\n"
     ]
    }
   ],
   "source": [
    "# add an extra columns of 1 to X (consult previous labs) \n",
    "X_1 = np.hstack((np.ones((m,1)),X))\n",
    "\n",
    "Lambda = 0\n",
    "learn_rate=0.001\n",
    "\n",
    "#choose an adequate number of iterations such\n",
    "#  that the cost function converged \n",
    "num_iter = 1000000000\n",
    "breakpoint = 1e-100\n",
    "# inicialize all trainable parameters to be zeros. \n",
    "initial_theta = np.zeros((X_1.shape[1],1))\n",
    "    \n",
    "# Run gradientDescent to compute the optimal values of theta : \n",
    "# EXPECTED RESULT: theta= [~12; ~0.36]\n",
    "theta, J_history = gradientDescent(X_1,y,initial_theta,learn_rate,num_iter,Lambda, breakpoint = breakpoint)\n",
    "print(f'Took {len(J_history)} iterations to converge to a difference of less than the set breakpoint in the cost function')\n",
    "print(theta)"
   ]
  },
  {
   "cell_type": "markdown",
   "metadata": {},
   "source": [
    "### Plot the Cost Function history"
   ]
  },
  {
   "cell_type": "code",
   "execution_count": 180,
   "metadata": {
    "scrolled": true
   },
   "outputs": [
    {
     "data": {
      "text/plain": [
       "[<matplotlib.lines.Line2D at 0x7fd7fa8ac130>]"
      ]
     },
     "execution_count": 180,
     "metadata": {},
     "output_type": "execute_result"
    },
    {
     "data": {
      "image/png": "[encoded data removed]",
      "text/plain": [
       "<Figure size 432x288 with 1 Axes>"
      ]
     },
     "metadata": {
      "needs_background": "light"
     },
     "output_type": "display_data"
    }
   ],
   "source": [
    "# Plot the linear fit on the data\n",
    "plt.plot(J_history)\n"
   ]
  },
  {
   "cell_type": "markdown",
   "metadata": {},
   "source": [
    "### Plot the data and its linear model\n",
    "You should get a figure similar to Fig.2. This best fit line tells that the linear model is not a good fit to this data. \n",
    "\n",
    "<img src=\"images/f2.png\" style=\"width:350px;height:250px;\">\n",
    "<caption><center> **Fig.2** : **Linear fit** </center></caption>"
   ]
  },
  {
   "cell_type": "code",
   "execution_count": 71,
   "metadata": {
    "scrolled": true
   },
   "outputs": [
    {
     "data": {
      "text/plain": [
       "(-50.0, 40.0)"
      ]
     },
     "execution_count": 71,
     "metadata": {},
     "output_type": "execute_result"
    },
    {
     "data": {
      "image/png": "[encoded data removed]",
      "text/plain": [
       "<Figure size 432x288 with 1 Axes>"
      ]
     },
     "metadata": {
      "needs_background": "light"
     },
     "output_type": "display_data"
    }
   ],
   "source": [
    "#add the scatter plot of data (as above) \n",
    "plt.scatter(X,y, c='r', marker='x')\n",
    "plt.xlabel('Change in water level (x)')\n",
    "plt.ylabel('Water flowing out of the dam (y)')\n",
    "\n",
    "\n",
    "#Plot the best linear model\n",
    "x_fit=range(-50,40)\n",
    "y_fit=theta[0]+theta[1]*x_fit\n",
    "plt.plot(x_fit,y_fit,color=\"b\")\n",
    "\n",
    "plt.ylim(-5,40)\n",
    "plt.xlim(-50,40)"
   ]
  },
  {
   "cell_type": "markdown",
   "metadata": {},
   "source": [
    "### Bias-variance and learning curves \n",
    "\n",
    "An important concept in ML is the **bias-variance** tradeoff. \n",
    "\n",
    "Models with high bias are not complex enough for the data and tend to underfit. \n",
    "\n",
    "Models with high variance overfit to the training data. \n",
    "\n",
    "Now, you will plot training and CV learning curves to diagnose bias-variance problems. \n",
    "\n",
    "To plot the learning curve, we need training and CV errors for different training set sizes. To obtain different training set sizes, *learningCurve* use different subsets of the original training set X. Specifically, for a training set size of i, the first i examples (i.e., X(0:i,:) and y(0:i)) are used.\n"
   ]
  },
  {
   "cell_type": "code",
   "execution_count": 74,
   "metadata": {},
   "outputs": [],
   "source": [
    "def learningCurve(X, y, Xval, yval, learn_rate, num_iter, Lambda):\n",
    "    \n",
    "    \"\"\"\n",
    "    Returns the train and cross validation set errors for a learning curve\n",
    "    \"\"\"\n",
    "    # Number of training examples \n",
    "    m = len(y)  \n",
    "\n",
    "    # number of features \n",
    "    n = X.shape[1]\n",
    "\n",
    "    # Number of validation examples \n",
    "    mval = len(yval) \n",
    "\n",
    "    error_train, error_val = [],[]\n",
    "    \n",
    "    for i in range(1,m+1):\n",
    "        \n",
    "        # inicialize theta vector with zeros\n",
    "        initial_theta = np.zeros((n,1))\n",
    "        Xtrain=X[0:i,:]\n",
    "        ytrain=y[0:i,:]\n",
    "        \n",
    "        #compute the optimal theta\n",
    "        theta = gradientDescent( Xtrain, ytrain,initial_theta,learn_rate,num_iter,Lambda)[0]\n",
    "        \n",
    "        h_train = np.dot(Xtrain, theta)\n",
    "        h_val = np.dot(Xval, theta)\n",
    "        \n",
    "        error_train_i = 1/(2*m) * np.sum((h_train - ytrain)**2)\n",
    "        error_val_i = 1/(2*mval) * np.sum((h_val - yval)**2)\n",
    "        \n",
    "        error_train.append(error_train_i)\n",
    "        error_val.append(error_val_i)\n",
    "\n",
    "    return error_train, error_val"
   ]
  },
  {
   "cell_type": "code",
   "execution_count": 78,
   "metadata": {},
   "outputs": [],
   "source": [
    "# add an extra columns of 1 to Xval\n",
    "mval = Xval.shape[0]\n",
    "Xval_1 = np.hstack((np.ones((mval,1)),Xval))\n",
    "\n",
    "#Call learningCurve to compute error_train and error_validation\n",
    "error_train, error_val = learningCurve(X_1, y, Xval_1, yval, learn_rate, num_iter, Lambda)"
   ]
  },
  {
   "cell_type": "markdown",
   "metadata": {},
   "source": [
    "### Plot the learning curves\n",
    "\n",
    "Plot the learning curves as shown in Fig. 3. You can observe that both the training and the cross validation errors are high even when the number of training examples increases. This reflects a high bias problem of the model. \n",
    "\n",
    "<img src=\"images/f3.png\" style=\"width:350px;height:250px;\">\n",
    "<caption><center> **Fig.3** : **Linear Regression learning curves** </center></caption>"
   ]
  },
  {
   "cell_type": "code",
   "execution_count": 79,
   "metadata": {},
   "outputs": [
    {
     "data": {
      "text/plain": [
       "(-10.0, 210.0)"
      ]
     },
     "execution_count": 79,
     "metadata": {},
     "output_type": "execute_result"
    },
    {
     "data": {
      "image/png": "[encoded data removed]",
      "text/plain": [
       "<Figure size 432x288 with 1 Axes>"
      ]
     },
     "metadata": {
      "needs_background": "light"
     },
     "output_type": "display_data"
    }
   ],
   "source": [
    "plt.plot(range(1,m+1),error_train)\n",
    "plt.plot(range(1,m+1), error_val,color=\"r\")\n",
    "plt.title(\"Learning Curve for Linear Regression\")\n",
    "plt.xlabel(\"Number of training examples\")\n",
    "plt.ylabel(\"Error\")\n",
    "plt.legend([\"Train\", \"Cross Validation\"])\n",
    "plt.ylim(-10,210)\n",
    "\n"
   ]
  },
  {
   "cell_type": "markdown",
   "metadata": {},
   "source": [
    "### Polynomial Regression\n",
    "\n",
    "The linear model is too simple for this data and resulted in underfitting (high bias). Now, you will address this problem by adding more features using higher powers of the original feature (waterLevel), such as:\n",
    "\n",
    "<img src=\"images/f4.png\" style=\"width:450px;height:50px;\">\n",
    "<caption><center> Fig.4: Polynomial Regression model </center></caption>\n",
    "\n",
    "Even though we have polynomial terms in the model above, we are still solving a linear regression optimization problem. The polynomial terms are simply new features that we can use for linear regression.\n",
    "\n",
    "Your task is to complete the function *polyFeatures* so that it maps the original training set X of size mx1 into its higher powers.\n",
    "\n",
    "$X_{poly}=[X^1, X^2,....X^n]$ \n",
    "\n",
    "Function *polyFeatures* has to be applied to the training, cross validation and test sets. \n",
    "  "
   ]
  },
  {
   "cell_type": "code",
   "execution_count": 80,
   "metadata": {},
   "outputs": [],
   "source": [
    "def polyFeatures(X, degree):\n",
    "    \"\"\"\n",
    "    Takes a data matrix X (size m x 1) and maps each example into its polynomial features where \n",
    "    X_poly(i, :) = [X(i) X(i).^2 X(i).^3 ...  X(i).^degree];\n",
    "    \"\"\"\n",
    "    m= X.shape[0]  # Number of training examples \n",
    "    \n",
    "    for i in range(2,degree+1):\n",
    "        var=X[:,0]**i\n",
    "        X = np.append(X, var.reshape(m,1), axis=1)\n",
    "        \n",
    "    return X"
   ]
  },
  {
   "cell_type": "markdown",
   "metadata": {},
   "source": [
    "### Feature Normalization\n",
    "\n",
    "After adding polynomial terms, the new features are badly scaled. Let assume a polynomial of degree 8, an example with x = 40 will now have a feature x8 = 40^8 = 6.5x10^12. Therefore, before training the model, the features of the training set are first normalized. Here *StandardScaler()* function is used, that standardize the features by removing the mean and scaling to unit variance. Check *StandardScaler?* for more details. "
   ]
  },
  {
   "cell_type": "code",
   "execution_count": 88,
   "metadata": {},
   "outputs": [
    {
     "name": "stdout",
     "output_type": "stream",
     "text": [
      "\n",
      "Raw:\n",
      "\tMax value: 28456763821657.78\n",
      "\tMin value: -592123531634.1227\n",
      "\tMean value: 544518701639.0486\n",
      "\tStd value: 3286950219477.51\n",
      "\tMedian value: 2139.7846134617157\n",
      "\tVariance value: 1.0804041745323249e+25\n",
      "\n",
      "Standardized:\n",
      "\tMax value: 2.8890818199263832\n",
      "\tMin value: -2.76331690131688\n",
      "\tMean value: 3.9898639947466563e-17\n",
      "\tStd value: 1.0\n",
      "\tMedian value: 0.021234903857719208\n",
      "\tVariance value: 1.0\n"
     ]
    }
   ],
   "source": [
    "from sklearn.preprocessing import StandardScaler\n",
    "\n",
    "# Map X onto Polynomial features (call polyFeatures)\n",
    "degree=8\n",
    "X_poly = polyFeatures(X, degree)\n",
    "\n",
    "#Check the range of values for the polynomial features,use for example np.max(), np.min()\n",
    "\n",
    "print(f'\\nRaw:\\n\\tMax value: {np.max(X_poly)}\\n\\tMin value: {np.min(X_poly)}\\n\\tMean value: {np.mean(X_poly)}\\n\\tStd value: {np.std(X_poly)}\\n\\tMedian value: {np.median(X_poly)}\\n\\tVariance value: {np.var(X_poly)}')\n",
    "\n",
    "# Standardize the features by removing the mean and scaling to unit variance. \n",
    "sc_X=StandardScaler()\n",
    "sc_X.fit(X_poly)  #Fit the scaller ONLY to the TRAINING DATA\n",
    "X_poly_normalized=sc_X.transform(X_poly) #Transform the training data \n",
    "\n",
    "#Check the range of values for the standardized features \n",
    "print(f'\\nStandardized:\\n\\tMax value: {np.max(X_poly_normalized)}\\n\\tMin value: {np.min(X_poly_normalized)}\\n\\tMean value: {np.mean(X_poly_normalized)}\\n\\tStd value: {np.std(X_poly_normalized)}\\n\\tMedian value: {np.median(X_poly_normalized)}\\n\\tVariance value: {np.var(X_poly_normalized)}')\n",
    "\n",
    "#Add an extra column of 1' to X_poly\n",
    "X_poly_normalized = np.hstack((np.ones((m,1)),X_poly_normalized))\n"
   ]
  },
  {
   "cell_type": "markdown",
   "metadata": {},
   "source": [
    "Map CV and test sets to polynomial features. \n",
    "Apply the fitted (with the training data) scaler to them. \n",
    "\n",
    "DO NOT FIT AGAIN THE SCALER !!!"
   ]
  },
  {
   "cell_type": "code",
   "execution_count": 91,
   "metadata": {},
   "outputs": [],
   "source": [
    "# Map Xval and Xtest onto polynomial features\n",
    "X_poly_val = polyFeatures(Xval, degree)\n",
    "X_poly_test = polyFeatures(Xtest, degree)\n",
    "\n",
    "# Apply the fitted StandardScaler \n",
    "#DO NOT FIT IT AGAIN (all scallers/normalizers are fitted only with the training data)\n",
    "X_poly_val_normalized =  sc_X.transform(X_poly_val)\n",
    "X_poly_test_normalized = sc_X.transform(X_poly_test)\n",
    "\n",
    "#Add an extra column of 1' to each matrix\n",
    "mval = X_poly_val_normalized.shape[0]\n",
    "mtest = X_poly_test_normalized.shape[0]\n",
    "\n",
    "X_poly_val_normalized = np.hstack((np.ones((mval,1)),X_poly_val_normalized))\n",
    "X_poly_test_normalized = np.hstack((np.ones((mtest,1)),X_poly_test_normalized)) \n"
   ]
  },
  {
   "cell_type": "markdown",
   "metadata": {},
   "source": [
    "### Learning Polynomial Regression\n",
    "\n",
    "The training of the polynomial model uses the same linear regression cost function and gradient as above. \n",
    "\n",
    "<img src=\"images/f7.png\" style=\"width:350px;height:250px;\">\n",
    "<caption><center> Fig.5: Cost function trajectory </center></caption>"
   ]
  },
  {
   "cell_type": "code",
   "execution_count": 148,
   "metadata": {},
   "outputs": [
    {
     "name": "stdout",
     "output_type": "stream",
     "text": [
      "Took 7274 iterations to converge to a difference of less than the set breakpoint in the cost function\n"
     ]
    },
    {
     "data": {
      "text/plain": [
       "[<matplotlib.lines.Line2D at 0x7fd7f4c775e0>]"
      ]
     },
     "execution_count": 148,
     "metadata": {},
     "output_type": "execute_result"
    },
    {
     "data": {
      "image/png": "[encoded data removed]",
      "text/plain": [
       "<Figure size 432x288 with 1 Axes>"
      ]
     },
     "metadata": {
      "needs_background": "light"
     },
     "output_type": "display_data"
    }
   ],
   "source": [
    "#n is now the new number of features after adding polynomial terms\n",
    "n = X_poly_normalized.shape[1]\n",
    "\n",
    "Lambda = 0\n",
    "num_iter = 10000000000\n",
    "learn_rate = 0.001\n",
    "\n",
    "# inicialize theta vector with zeros\n",
    "init_theta = np.zeros((n,1))\n",
    "\n",
    "breakpoint = 1e-4\n",
    "#call gradientDescent to get the optimal parameters theta\n",
    "theta_poly, J_history_poly = gradientDescent(X_poly_normalized,y,init_theta,learn_rate,num_iter,Lambda, breakpoint = breakpoint)\n",
    "\n",
    "print(f'Took {len(J_history_poly)} iterations to converge to a difference of less than the set breakpoint in the cost function')\n",
    "\n",
    "#Get Fig.5\n",
    "plt.plot(J_history_poly)\n"
   ]
  },
  {
   "cell_type": "markdown",
   "metadata": {},
   "source": [
    "### Polynomial Regression - learning curves\n",
    "\n",
    "Figs. 6 and Fig.7 are generated for $\\lambda$=0.\n",
    "The polynomial fit is able to follow the data points very well (Fig.6) and therefore the training error is very low (Fig.7). However, there is a gap between the training and CV errors (Fig.7), indicating a high variance problem due to the lack of regularization ( $\\lambda$=0). \n",
    "\n",
    "<img src=\"images/f5.png\" style=\"width:350px;height:250px;\">\n",
    "<caption><center> Fig.6: Polynomial Fit </center></caption>\n",
    "\n",
    "\n",
    "<img src=\"images/f6.png\" style=\"width:350px;height:250px;\">\n",
    "<caption><center> Fig.7: Linear Regression learning curves </center></caption>"
   ]
  },
  {
   "cell_type": "code",
   "execution_count": 153,
   "metadata": {},
   "outputs": [
    {
     "data": {
      "text/plain": [
       "(-5.0, 160.0)"
      ]
     },
     "execution_count": 153,
     "metadata": {},
     "output_type": "execute_result"
    },
    {
     "data": {
      "image/png": "[encoded data removed]",
      "text/plain": [
       "<Figure size 432x288 with 1 Axes>"
      ]
     },
     "metadata": {
      "needs_background": "light"
     },
     "output_type": "display_data"
    }
   ],
   "source": [
    "#Fig.6\n",
    "#add the scatter plot of training data (as above) \n",
    "\n",
    "plt.scatter(X,y, c='r', marker='x')\n",
    "plt.xlabel('Change in water level (x)')\n",
    "plt.ylabel('Water flowing out of the dam (y)')\n",
    "plt.title(\"Polynomial Regression Fit (lambda = 0)\")\n",
    "\n",
    "\n",
    "\n",
    "xmin = np.min(X) - 15\n",
    "xmax=np.max(X) + 25\n",
    "\n",
    "#Generate a grid of values for x coordinate\n",
    "x_value=np.linspace(xmin,xmax,2400)\n",
    "x_value=x_value.reshape(x_value.shape[0],1)\n",
    "\n",
    "# Map the x values and normalize\n",
    "x_value_poly = polyFeatures(x_value, degree)\n",
    "x_value_poly = sc_X.transform(x_value_poly)\n",
    "x_value_poly = np.append(np.ones((x_value_poly.shape[0],1)),x_value_poly, axis=1)\n",
    "\n",
    "#Compute the model prediction for x_value_poly\n",
    "y_value= np.dot(x_value_poly, theta_poly)\n",
    "\n",
    "plt.plot(x_value,y_value,\"--\",color=\"b\")\n",
    "plt.ylim(-5,160)\n"
   ]
  },
  {
   "cell_type": "code",
   "execution_count": 154,
   "metadata": {},
   "outputs": [],
   "source": [
    "#Call learningCurve to compute error_train and error_validation\n",
    "error_train, error_val = learningCurve(X_poly_normalized, y, X_poly_val_normalized, yval, learn_rate, num_iter, Lambda)\n"
   ]
  },
  {
   "cell_type": "code",
   "execution_count": 155,
   "metadata": {
    "scrolled": true
   },
   "outputs": [
    {
     "data": {
      "text/plain": [
       "(0.0, 100.0)"
      ]
     },
     "execution_count": 155,
     "metadata": {},
     "output_type": "execute_result"
    },
    {
     "data": {
      "image/png": "[encoded data removed]",
      "text/plain": [
       "<Figure size 432x288 with 1 Axes>"
      ]
     },
     "metadata": {
      "needs_background": "light"
     },
     "output_type": "display_data"
    }
   ],
   "source": [
    "# Fig.7\n",
    "\n",
    "plt.plot(range(m),error_train,label=\"Train\")\n",
    "plt.plot(range(m),error_val,label=\"Cross Validation\",color=\"r\")\n",
    "\n",
    "plt.title(\"Learning Curve for Linear Regression\")\n",
    "plt.xlabel(\"Number of training examples\")\n",
    "plt.ylabel(\"Error\")\n",
    "plt.legend()\n",
    "plt.ylim(0,100)\n"
   ]
  },
  {
   "cell_type": "markdown",
   "metadata": {},
   "source": [
    "### Polynomial regression with $\\lambda$ =  [0.001; 0.003; 0.01; 0.03; 0.1; 0.3; 1; 3; 10] ) \n",
    "\n",
    "Find the best $\\lambda$ from a grid search and compute the training, validation and test errors.\n",
    "(similar to function learningCurve)"
   ]
  },
  {
   "cell_type": "code",
   "execution_count": 177,
   "metadata": {},
   "outputs": [],
   "source": [
    "def validationCurve (X, y, Xval, yval, learn_rate, num_iter, Lambda_array):\n",
    "\n",
    "    \"\"\"\n",
    "    Returns the best lambda and the respective train and cross validation set errors\n",
    "    \"\"\"\n",
    "    m = X.shape[0]  # Number of training examples \n",
    "    n= X.shape[1]  # number of features \n",
    "    mval = Xval.shape[0] # Number of validation examples \n",
    "    \n",
    "    error_train, error_val = [],[]\n",
    "    \n",
    "    for lam in Lambda_array:\n",
    "        # inicialize theta vector with zeros\n",
    "        \n",
    "        theta_ini= np.zeros((n,1))\n",
    "    \n",
    "        # call gradientDescent to compute the optimal theta \n",
    "        theta = gradientDescent(X, y,theta_ini,learn_rate,num_iter,lam)[0]\n",
    "                \n",
    "        #After the training is over, apply the trained model for train and validation data\n",
    "        pred_train = np.dot(X, theta)\n",
    "        pred_val = np.dot(Xval, theta)\n",
    "        \n",
    "        #Compute the train and validation error\n",
    "        error_train_i = 1/(2*m) * np.sum((pred_train - y)**2)\n",
    "        error_val_i = 1/(2*mval) * np.sum((pred_val - yval)**2)\n",
    "        \n",
    "        error_train.append(error_train_i)\n",
    "        error_val.append(error_val_i)\n",
    "    \n",
    "    #Choose the best lambda to be the one that minimizes the validation error\n",
    "    ind = np.argmin(error_val)\n",
    "    best_lambda=Lambda_array[ind]\n",
    "        \n",
    "    return best_lambda, error_train, error_val"
   ]
  },
  {
   "cell_type": "code",
   "execution_count": 178,
   "metadata": {},
   "outputs": [
    {
     "name": "stdout",
     "output_type": "stream",
     "text": [
      "3\n",
      "5.786405182973074\n",
      "4.971013121579225\n",
      "5.075724058513631\n"
     ]
    },
    {
     "data": {
      "image/png": "[encoded data removed]",
      "text/plain": [
       "<Figure size 432x288 with 1 Axes>"
      ]
     },
     "metadata": {
      "needs_background": "light"
     },
     "output_type": "display_data"
    }
   ],
   "source": [
    "Lambda_array = [0.001, 0.003, 0.01, 0.03, 0.1, 0.3, 1, 3, 10]\n",
    "best_lambda, error_train, error_val = validationCurve(X_poly_normalized, y, X_poly_val_normalized, yval, learn_rate, num_iter, Lambda_array)\n",
    "\n",
    "print(best_lambda)\n",
    "\n",
    "plt.plot(Lambda_array,error_train,label=\"Train\")\n",
    "plt.plot(Lambda_array,error_val,label=\"Cross Validation\",color=\"r\")\n",
    "plt.xlabel(\"Lambda\")\n",
    "plt.ylabel(\"Error\")\n",
    "plt.legend()\n",
    "\n",
    "\n",
    "\n",
    "# inicialize all thetas with zeros\n",
    "theta_ini= np.zeros((n,1))\n",
    "\n",
    "# Train the model with the best_lambda\n",
    "theta_poly = gradientDescent(X_poly_normalized, y,theta_ini,learn_rate,num_iter,best_lambda)[0]\n",
    "\n",
    "#prediction of the Linear model for the training data \n",
    "pred = np.dot(X_poly_normalized,theta_poly)\n",
    "\n",
    "# Training error\n",
    "Etrain = 1/(2*m) * np.sum((pred - y)**2)\n",
    "\n",
    "#prediction of the Linear model for the validation data \n",
    "pred_val = np.dot(X_poly_val_normalized,theta_poly)\n",
    "# Validation error \n",
    "Eval = 1/(2*mval) * np.sum((pred_val - yval)**2)\n",
    "\n",
    "#prediction of the Linear model for the test data \n",
    "pred_test = np.dot(X_poly_test_normalized,theta_poly)\n",
    "# Test error \n",
    "Etest = 1/(2*mtest) * np.sum((pred_test - ytest)**2)\n",
    "\n",
    "# print the training (Etrain), validation (Eval) and test (Etest) errors\n",
    "print(Etrain)\n",
    "print(Eval)\n",
    "print(Etest)\n"
   ]
  },
  {
   "cell_type": "code",
   "execution_count": null,
   "metadata": {},
   "outputs": [],
   "source": []
  }
 ],
 "metadata": {
  "kernelspec": {
   "display_name": "Python 3 (ipykernel)",
   "language": "python",
   "name": "python3"
  },
  "language_info": {
   "codemirror_mode": {
    "name": "ipython",
    "version": 3
   },
   "file_extension": ".py",
   "mimetype": "text/x-python",
   "name": "python",
   "nbconvert_exporter": "python",
   "pygments_lexer": "ipython3",
   "version": "3.10.5"
  }
 },
 "nbformat": 4,
 "nbformat_minor": 2
}
